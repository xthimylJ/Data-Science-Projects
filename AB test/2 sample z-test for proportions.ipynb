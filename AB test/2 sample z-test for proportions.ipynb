{
 "cells": [
  {
   "cell_type": "markdown",
   "id": "e76c2151-4f97-4ccd-b984-26fe7f8b201e",
   "metadata": {},
   "source": [
    "# Introduction"
   ]
  },
  {
   "cell_type": "markdown",
   "id": "b0553631-9970-41a7-8656-fe9b7edfe18e",
   "metadata": {},
   "source": [
    "This project involves analyzing user interaction data to determine whether a proposed change leads to increased user engagement. The dataset includes user IDs, their group assignment (control or treatment), and whether or not they clicked on a given element. By comparing the performance of the control and treatment groups, we aim to assess whether the variation improves user behavior as intended."
   ]
  },
  {
   "cell_type": "markdown",
   "id": "15006d31-1537-40f1-8898-a6741b042d7e",
   "metadata": {},
   "source": [
    "## Problem Statement"
   ]
  },
  {
   "cell_type": "markdown",
   "id": "50d1e475-cb2f-406b-b545-fc04689c013b",
   "metadata": {},
   "source": [
    "The objective of this project is to evaluate the effectiveness of a proposed change on user click behavior.  \n",
    "Specifically, we aim to answer the question:   \n",
    "**Does the treatment group exhibit a significantly higher click-through rate (CTR) compared to the control group?**"
   ]
  },
  {
   "cell_type": "code",
   "execution_count": 16,
   "id": "6138f9c0-77f1-4d18-ade8-33d96cdbabe3",
   "metadata": {},
   "outputs": [],
   "source": [
    "import numpy as np\n",
    "import pandas as pd\n",
    "import scipy.stats as stats\n",
    "import seaborn as sns\n",
    "import matplotlib.pyplot as plt"
   ]
  },
  {
   "cell_type": "code",
   "execution_count": 2,
   "id": "6938e8f0-5794-4c20-943c-89937b4bdb32",
   "metadata": {},
   "outputs": [
    {
     "data": {
      "text/html": [
       "<div>\n",
       "<style scoped>\n",
       "    .dataframe tbody tr th:only-of-type {\n",
       "        vertical-align: middle;\n",
       "    }\n",
       "\n",
       "    .dataframe tbody tr th {\n",
       "        vertical-align: top;\n",
       "    }\n",
       "\n",
       "    .dataframe thead th {\n",
       "        text-align: right;\n",
       "    }\n",
       "</style>\n",
       "<table border=\"1\" class=\"dataframe\">\n",
       "  <thead>\n",
       "    <tr style=\"text-align: right;\">\n",
       "      <th></th>\n",
       "      <th>user_id</th>\n",
       "      <th>group</th>\n",
       "      <th>views</th>\n",
       "      <th>clicks</th>\n",
       "    </tr>\n",
       "  </thead>\n",
       "  <tbody>\n",
       "    <tr>\n",
       "      <th>0</th>\n",
       "      <td>1</td>\n",
       "      <td>control</td>\n",
       "      <td>3.0</td>\n",
       "      <td>0.0</td>\n",
       "    </tr>\n",
       "    <tr>\n",
       "      <th>1</th>\n",
       "      <td>2</td>\n",
       "      <td>control</td>\n",
       "      <td>1.0</td>\n",
       "      <td>0.0</td>\n",
       "    </tr>\n",
       "    <tr>\n",
       "      <th>2</th>\n",
       "      <td>3</td>\n",
       "      <td>control</td>\n",
       "      <td>3.0</td>\n",
       "      <td>1.0</td>\n",
       "    </tr>\n",
       "    <tr>\n",
       "      <th>3</th>\n",
       "      <td>4</td>\n",
       "      <td>control</td>\n",
       "      <td>5.0</td>\n",
       "      <td>0.0</td>\n",
       "    </tr>\n",
       "    <tr>\n",
       "      <th>4</th>\n",
       "      <td>5</td>\n",
       "      <td>control</td>\n",
       "      <td>2.0</td>\n",
       "      <td>0.0</td>\n",
       "    </tr>\n",
       "  </tbody>\n",
       "</table>\n",
       "</div>"
      ],
      "text/plain": [
       "   user_id    group  views  clicks\n",
       "0        1  control    3.0     0.0\n",
       "1        2  control    1.0     0.0\n",
       "2        3  control    3.0     1.0\n",
       "3        4  control    5.0     0.0\n",
       "4        5  control    2.0     0.0"
      ]
     },
     "execution_count": 2,
     "metadata": {},
     "output_type": "execute_result"
    }
   ],
   "source": [
    "df = pd.read_csv(\"webpage analytics.csv\")\n",
    "df.head()"
   ]
  },
  {
   "cell_type": "code",
   "execution_count": 3,
   "id": "8ade1986-cccc-4270-8c14-0618f556ac30",
   "metadata": {},
   "outputs": [
    {
     "data": {
      "text/plain": [
       "(80000, 4)"
      ]
     },
     "execution_count": 3,
     "metadata": {},
     "output_type": "execute_result"
    }
   ],
   "source": [
    "df.shape"
   ]
  },
  {
   "cell_type": "code",
   "execution_count": 4,
   "id": "a2dce6c4-cda1-4e7f-aabf-a756b1038d1b",
   "metadata": {},
   "outputs": [
    {
     "data": {
      "text/plain": [
       "group\n",
       "control    40000\n",
       "test       40000\n",
       "Name: count, dtype: int64"
      ]
     },
     "execution_count": 4,
     "metadata": {},
     "output_type": "execute_result"
    }
   ],
   "source": [
    "df['group'].value_counts()  \n",
    "          "
   ]
  },
  {
   "cell_type": "code",
   "execution_count": 5,
   "id": "1be0dcf3-c640-46a8-adc6-b2120f8f47b9",
   "metadata": {},
   "outputs": [
    {
     "data": {
      "text/plain": [
       "user_id    0\n",
       "group      0\n",
       "views      0\n",
       "clicks     0\n",
       "dtype: int64"
      ]
     },
     "execution_count": 5,
     "metadata": {},
     "output_type": "execute_result"
    }
   ],
   "source": [
    "df.isnull().sum()"
   ]
  },
  {
   "cell_type": "code",
   "execution_count": 17,
   "id": "7491c45d-37eb-4692-a512-63ef09684d29",
   "metadata": {},
   "outputs": [
    {
     "data": {
      "image/png": "[encoded data removed]",
      "text/plain": [
       "<Figure size 640x480 with 1 Axes>"
      ]
     },
     "metadata": {},
     "output_type": "display_data"
    }
   ],
   "source": [
    "df['clicked'] = df['clicks'] > 0\n",
    "\n",
    "click_rates = df.groupby('group')['clicked'].mean().reset_index()\n",
    "sns.set()\n",
    "sns.barplot(data=click_rates, x='group', y='clicked')\n",
    "plt.title(\"Click-Through Rate by Group\")\n",
    "plt.ylabel(\"CTR (Proportion of Users Clicked)\")\n",
    "plt.show()\n"
   ]
  },
  {
   "cell_type": "code",
   "execution_count": 6,
   "id": "728934db-3933-4baa-b2c9-5542856d50fc",
   "metadata": {},
   "outputs": [],
   "source": [
    "df = df[df['views'] > 0]\n",
    "\n",
    "df = df.drop([\"views\"], axis=1) # we don't need column \"views\""
   ]
  },
  {
   "cell_type": "code",
   "execution_count": 7,
   "id": "2d8baaa7-3807-40ee-b737-1de151861504",
   "metadata": {},
   "outputs": [
    {
     "data": {
      "text/html": [
       "<div>\n",
       "<style scoped>\n",
       "    .dataframe tbody tr th:only-of-type {\n",
       "        vertical-align: middle;\n",
       "    }\n",
       "\n",
       "    .dataframe tbody tr th {\n",
       "        vertical-align: top;\n",
       "    }\n",
       "\n",
       "    .dataframe thead th {\n",
       "        text-align: right;\n",
       "    }\n",
       "</style>\n",
       "<table border=\"1\" class=\"dataframe\">\n",
       "  <thead>\n",
       "    <tr style=\"text-align: right;\">\n",
       "      <th></th>\n",
       "      <th>user_id</th>\n",
       "      <th>group</th>\n",
       "      <th>clicks</th>\n",
       "    </tr>\n",
       "  </thead>\n",
       "  <tbody>\n",
       "    <tr>\n",
       "      <th>0</th>\n",
       "      <td>1</td>\n",
       "      <td>control</td>\n",
       "      <td>0.0</td>\n",
       "    </tr>\n",
       "    <tr>\n",
       "      <th>1</th>\n",
       "      <td>2</td>\n",
       "      <td>control</td>\n",
       "      <td>0.0</td>\n",
       "    </tr>\n",
       "    <tr>\n",
       "      <th>2</th>\n",
       "      <td>3</td>\n",
       "      <td>control</td>\n",
       "      <td>1.0</td>\n",
       "    </tr>\n",
       "    <tr>\n",
       "      <th>3</th>\n",
       "      <td>4</td>\n",
       "      <td>control</td>\n",
       "      <td>0.0</td>\n",
       "    </tr>\n",
       "    <tr>\n",
       "      <th>4</th>\n",
       "      <td>5</td>\n",
       "      <td>control</td>\n",
       "      <td>0.0</td>\n",
       "    </tr>\n",
       "  </tbody>\n",
       "</table>\n",
       "</div>"
      ],
      "text/plain": [
       "   user_id    group  clicks\n",
       "0        1  control     0.0\n",
       "1        2  control     0.0\n",
       "2        3  control     1.0\n",
       "3        4  control     0.0\n",
       "4        5  control     0.0"
      ]
     },
     "execution_count": 7,
     "metadata": {},
     "output_type": "execute_result"
    }
   ],
   "source": [
    "df.head()"
   ]
  },
  {
   "cell_type": "code",
   "execution_count": 8,
   "id": "795d92ad-6e9c-4076-a9be-c11ace3a21ed",
   "metadata": {},
   "outputs": [
    {
     "data": {
      "text/html": [
       "<div>\n",
       "<style scoped>\n",
       "    .dataframe tbody tr th:only-of-type {\n",
       "        vertical-align: middle;\n",
       "    }\n",
       "\n",
       "    .dataframe tbody tr th {\n",
       "        vertical-align: top;\n",
       "    }\n",
       "\n",
       "    .dataframe thead th {\n",
       "        text-align: right;\n",
       "    }\n",
       "</style>\n",
       "<table border=\"1\" class=\"dataframe\">\n",
       "  <thead>\n",
       "    <tr style=\"text-align: right;\">\n",
       "      <th></th>\n",
       "      <th>user_id</th>\n",
       "      <th>group</th>\n",
       "      <th>clicks</th>\n",
       "    </tr>\n",
       "  </thead>\n",
       "  <tbody>\n",
       "    <tr>\n",
       "      <th>79995</th>\n",
       "      <td>79996</td>\n",
       "      <td>test</td>\n",
       "      <td>0.0</td>\n",
       "    </tr>\n",
       "    <tr>\n",
       "      <th>79996</th>\n",
       "      <td>79997</td>\n",
       "      <td>test</td>\n",
       "      <td>0.0</td>\n",
       "    </tr>\n",
       "    <tr>\n",
       "      <th>79997</th>\n",
       "      <td>79998</td>\n",
       "      <td>test</td>\n",
       "      <td>1.0</td>\n",
       "    </tr>\n",
       "    <tr>\n",
       "      <th>79998</th>\n",
       "      <td>79999</td>\n",
       "      <td>test</td>\n",
       "      <td>0.0</td>\n",
       "    </tr>\n",
       "    <tr>\n",
       "      <th>79999</th>\n",
       "      <td>80000</td>\n",
       "      <td>test</td>\n",
       "      <td>0.0</td>\n",
       "    </tr>\n",
       "  </tbody>\n",
       "</table>\n",
       "</div>"
      ],
      "text/plain": [
       "       user_id group  clicks\n",
       "79995    79996  test     0.0\n",
       "79996    79997  test     0.0\n",
       "79997    79998  test     1.0\n",
       "79998    79999  test     0.0\n",
       "79999    80000  test     0.0"
      ]
     },
     "execution_count": 8,
     "metadata": {},
     "output_type": "execute_result"
    }
   ],
   "source": [
    "df.tail()"
   ]
  },
  {
   "cell_type": "code",
   "execution_count": 9,
   "id": "7184d964-a872-4832-8f9a-51f237c6224c",
   "metadata": {},
   "outputs": [
    {
     "data": {
      "text/plain": [
       "(80000, 3)"
      ]
     },
     "execution_count": 9,
     "metadata": {},
     "output_type": "execute_result"
    }
   ],
   "source": [
    "df.shape"
   ]
  },
  {
   "cell_type": "markdown",
   "id": "94578d3a-5a3e-4cf1-b7c7-545be133910a",
   "metadata": {},
   "source": [
    "$$H_0: p_{con} = p_{test}$$  \n",
    "$$H_a: p_{con} \\neq p_{test}$$"
   ]
  },
  {
   "cell_type": "markdown",
   "id": "3b3555c8-6a81-4665-8547-b9c4ab0c2703",
   "metadata": {},
   "source": [
    "## estimating z critical values"
   ]
  },
  {
   "cell_type": "code",
   "execution_count": 19,
   "id": "554d93b2-df11-4212-90c1-b0f0a1ffc3f5",
   "metadata": {},
   "outputs": [],
   "source": [
    "alpha = 0.05\n",
    "z_crit = np.array([-stats.norm.ppf(1 - alpha/2), stats.norm.ppf(1 - alpha/2)])"
   ]
  },
  {
   "cell_type": "code",
   "execution_count": 22,
   "id": "8a28ce99-2e42-4b72-bdae-eb1328fc37e6",
   "metadata": {},
   "outputs": [
    {
     "name": "stdout",
     "output_type": "stream",
     "text": [
      "critical z-values for 2 sided z-test: [-1.96  1.96]\n"
     ]
    }
   ],
   "source": [
    "print(f\"critical z-values for 2 sided z-test: {np.round(z_crit,2)}\")"
   ]
  },
  {
   "cell_type": "markdown",
   "id": "8d64af2e-524a-4413-a3d7-28d67682ea3e",
   "metadata": {},
   "source": [
    "## z-statistic and p-value calculations"
   ]
  },
  {
   "cell_type": "code",
   "execution_count": 10,
   "id": "ae5e6ea0-5eb1-4a93-afe9-ef596853cd07",
   "metadata": {},
   "outputs": [],
   "source": [
    "x_con = df.groupby(\"group\")[\"clicks\"].sum().loc['control'] # sum of clicks for the control group \n",
    "x_test = df.groupby(\"group\")[\"clicks\"].sum().loc[\"test\"] # sum of clicks for the test group"
   ]
  },
  {
   "cell_type": "code",
   "execution_count": 11,
   "id": "f302f295-4abd-4e80-92ff-2075ffa3fda5",
   "metadata": {},
   "outputs": [],
   "source": [
    "# count of users for every group\n",
    "n_con = df.groupby(\"group\").size().loc[\"control\"]\n",
    "n_test = df.groupby(\"group\").size().loc[\"test\"]"
   ]
  },
  {
   "cell_type": "code",
   "execution_count": 12,
   "id": "26d1c2c9-916e-41ff-b8e9-c88faec7fc47",
   "metadata": {},
   "outputs": [
    {
     "name": "stdout",
     "output_type": "stream",
     "text": [
      "Click proportion for the control group: 0.346\n",
      "Click proportion for the test group: 0.401\n",
      "Pooled click proportion: 0.373\n"
     ]
    }
   ],
   "source": [
    "# estimating click proportion for every group\n",
    "p_hat_con = x_con/n_con\n",
    "p_hat_test = x_test/n_test\n",
    "\n",
    "# estimating pooled ckick proportion \n",
    "p_pooled = (x_con+x_test)/(n_con+n_test)\n",
    "\n",
    "print(f\"Click proportion for the control group: {round(p_hat_con, 3)}\")\n",
    "print(f\"Click proportion for the test group: {round(p_hat_test, 3)}\")\n",
    "print(f\"Pooled click proportion: {round(p_pooled, 3)}\")"
   ]
  },
  {
   "cell_type": "code",
   "execution_count": 13,
   "id": "d589a0cb-fcef-4bd6-a439-fab969c4dfbf",
   "metadata": {},
   "outputs": [
    {
     "name": "stdout",
     "output_type": "stream",
     "text": [
      "Standard error: 0.003\n"
     ]
    }
   ],
   "source": [
    "# calculating pooled variance and standard error\n",
    "pooled_variance = p_pooled*(1-p_pooled)*(1/n_con + 1/n_test)\n",
    "SE = np.sqrt(pooled_variance)\n",
    "print(f\"Standard error: {round(SE,3)}\")"
   ]
  },
  {
   "cell_type": "code",
   "execution_count": 14,
   "id": "4de64f14-d492-4381-aa35-4c6d1d1d89bb",
   "metadata": {},
   "outputs": [
    {
     "name": "stdout",
     "output_type": "stream",
     "text": [
      "z-statistic: -16.20427245930439\n"
     ]
    }
   ],
   "source": [
    "# calculating z-statistic\n",
    "z_stat = (p_hat_con - p_hat_test)/SE\n",
    "print(f\"z-statistic: {z_stat}\")"
   ]
  },
  {
   "cell_type": "code",
   "execution_count": 15,
   "id": "8d8582ca-5e1c-4cef-afd4-f98f0b1b418a",
   "metadata": {},
   "outputs": [
    {
     "name": "stdout",
     "output_type": "stream",
     "text": [
      "the p-value: 4.704212751163016e-59\n"
     ]
    }
   ],
   "source": [
    "# calculating p-value\n",
    "p_val = 2 * stats.norm.sf(abs(z_stat))\n",
    "print(f\"the p-value: {p_val}\")"
   ]
  },
  {
   "cell_type": "markdown",
   "id": "62c77277-3645-408e-accd-df2c6157dc20",
   "metadata": {},
   "source": [
    "This p-value is **extremely small**, far below any common significance level (e.g., 0.05, 0.01, or even 0.001).  \n",
    "Since the p-value is virtually zero, we **reject the null hypothesis**. This provides **strong statistical evidence** that the test group has a significantly different click-through rate compared to the control group. The change introduced in the treatment condition appears to have a **real impact on user behavior**."
   ]
  },
  {
   "cell_type": "code",
   "execution_count": null,
   "id": "ef6bf72a-bf4b-4a8a-98b3-6d3ed0fd0103",
   "metadata": {},
   "outputs": [],
   "source": []
  }
 ],
 "metadata": {
  "kernelspec": {
   "display_name": "Python 3 (ipykernel)",
   "language": "python",
   "name": "python3"
  },
  "language_info": {
   "codemirror_mode": {
    "name": "ipython",
    "version": 3
   },
   "file_extension": ".py",
   "mimetype": "text/x-python",
   "name": "python",
   "nbconvert_exporter": "python",
   "pygments_lexer": "ipython3",
   "version": "3.12.7"
  }
 },
 "nbformat": 4,
 "nbformat_minor": 5
}
