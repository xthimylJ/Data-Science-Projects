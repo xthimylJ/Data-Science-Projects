{
 "cells": [
  {
   "cell_type": "markdown",
   "id": "ba07ed8f-4e03-419c-8c78-c5f409e08ac3",
   "metadata": {},
   "source": [
    "## Understanding the math underhood "
   ]
  },
  {
   "cell_type": "markdown",
   "id": "f7fbd573-cecd-4c56-8b2b-641fe202a29b",
   "metadata": {},
   "source": [
    "1. logit = z $$z=wx+b$$\n",
    "2. likelihood function: $$\\sigma^y(z)[1-\\sigma(z)]^{1-y}$$ where $$\\sigma = \\frac{1}{1+e^{-z}}$$\n",
    "3. log-likelihood function: $$ln(\\sigma^y(z)[1-\\sigma(z)]^{1-y})$$ to make math easier\n",
    "4. Loss function for Logistic regression: $$-ln(\\sigma^y(z)[1-\\sigma(z)]^{1-y})$$\n",
    "$$or$$\n",
    "$$\\frac{1\\sum_{i=1}^m }{m}$$"
   ]
  },
  {
   "cell_type": "markdown",
   "id": "1793ef76-f4c3-4876-946d-4c3780ecbfe1",
   "metadata": {},
   "source": [
    "## Manual practice\n"
   ]
  },
  {
   "cell_type": "code",
   "execution_count": 1,
   "id": "54645aac-00ae-403f-871e-ac37945a11d5",
   "metadata": {},
   "outputs": [
    {
     "name": "stdout",
     "output_type": "stream",
     "text": [
      "the loss: 0.37110066594777763\n"
     ]
    }
   ],
   "source": [
    "# example 1\n",
    "y = 1\n",
    "w = 2.0\n",
    "x = 0.5\n",
    "b = -0.2\n",
    "\n",
    "# step 1: compute z \n",
    "z = w*x + b\n",
    "\n",
    "# step 2: estimate sigmoid(z)\n",
    "import math\n",
    "e = math.e\n",
    "sigmoid = 1/(1+e**(-z))\n",
    "\n",
    "# step 3: compute the likelihood\n",
    "likelihood = sigmoid**y *(1-sigmoid)**(1-y)\n",
    "\n",
    "# step 4: compute the log-likelihood\n",
    "import numpy as np\n",
    "def ln(x):\n",
    "    return np.log(x)\n",
    "log_lh = ln(likelihood)\n",
    "#print(log_lh)\n",
    "\n",
    "# step 5: compute\n",
    "loss = -log_lh\n",
    "print(f\"the loss: {loss}\")"
   ]
  },
  {
   "cell_type": "code",
   "execution_count": 2,
   "id": "af86ab13-d1b7-40a7-a543-6526192e60f0",
   "metadata": {},
   "outputs": [
    {
     "name": "stdout",
     "output_type": "stream",
     "text": [
      "logit: -1.4999999999999998\n",
      "sigmoid: 0.18242552380635638\n",
      "likelihood: 0.8175744761936437\n",
      "the log-likelihood: -0.2014132779827524\n",
      "the loss: 0.2014132779827524\n"
     ]
    }
   ],
   "source": [
    "# example 2:\n",
    "y = 0 \n",
    "w = -1.5\n",
    "x = 1.2\n",
    "b = 0.3\n",
    "\n",
    "# step 1: compute z\n",
    "z = w*x+b\n",
    "print(f\"logit: {z}\")\n",
    "\n",
    "# step 2 compute sigmoid\n",
    "sigmoid = 1/(1+e**(-z))\n",
    "print(f\"sigmoid: {sigmoid}\")\n",
    "\n",
    "# step 3 compute the likelihood\n",
    "lh = sigmoid**y * (1-sigmoid)**(1-y)\n",
    "print(f\"likelihood: {lh}\")\n",
    "\n",
    "# step 4 compute the log-likelihood\n",
    "log_lh = ln(lh)\n",
    "print(f\"the log-likelihood: {log_lh}\")\n",
    "\n",
    "# step 5 compute the loss\n",
    "loss = -log_lh\n",
    "print(f\"the loss: {loss}\")"
   ]
  },
  {
   "cell_type": "markdown",
   "id": "31a5d606-d299-4d57-a2c4-bfc7f9d8b8c8",
   "metadata": {},
   "source": [
    "### negative ln-likelihood = cost function for logistic regression = binary cross-entropy "
   ]
  },
  {
   "cell_type": "code",
   "execution_count": 3,
   "id": "4e321de8-ac1f-4657-955a-a8613cc83209",
   "metadata": {},
   "outputs": [
    {
     "data": {
      "text/plain": [
       "0.7985076962177716"
      ]
     },
     "execution_count": 3,
     "metadata": {},
     "output_type": "execute_result"
    }
   ],
   "source": [
    "# exmple of interpreting \n",
    "ln_45=-np.log(0.45)\n",
    "ln_45"
   ]
  },
  {
   "cell_type": "markdown",
   "id": "9c0e7944-2f11-4633-8bf3-746f80d76beb",
   "metadata": {},
   "source": [
    "the output tells us that loss is very big and our model is not very good"
   ]
  },
  {
   "cell_type": "markdown",
   "id": "dd717762-2bb1-42c1-bb96-4b0f2ac00e09",
   "metadata": {},
   "source": [
    "#### practicing of calculating the loss function value over a dataset (weights are known)"
   ]
  },
  {
   "cell_type": "code",
   "execution_count": 4,
   "id": "9d923b82-82f5-4404-a02a-7833711b5887",
   "metadata": {},
   "outputs": [
    {
     "name": "stdout",
     "output_type": "stream",
     "text": [
      "          X      prob  y\n",
      "0  0.496714  0.498357  0\n",
      "1 -0.138264  0.218142  0\n",
      "2  0.647689  0.573312  1\n",
      "3  1.523030  0.885549  1\n",
      "4 -0.234153  0.187200  1\n"
     ]
    }
   ],
   "source": [
    "import pandas as pd\n",
    "np.random.seed(42)\n",
    "\n",
    "w = 2.0\n",
    "b = -1.0\n",
    "\n",
    "n_samples = 100\n",
    "X = np.random.randn(n_samples) \n",
    "\n",
    "z = w*X + b\n",
    "def sigmoid(z):\n",
    "    return 1/(1 + np.exp(-z))\n",
    "\n",
    "probs = sigmoid(z)\n",
    "y = np.random.binomial(1, probs)\n",
    "\n",
    "df = pd.DataFrame({'X': X, 'prob': probs, 'y': y})\n",
    "print(df.head())"
   ]
  },
  {
   "cell_type": "code",
   "execution_count": 5,
   "id": "198cd506-ed14-4d2d-890f-4a3ddbd61e24",
   "metadata": {},
   "outputs": [
    {
     "name": "stdout",
     "output_type": "stream",
     "text": [
      "the value of loss function with current weights: w = 2.0 and b = -1.0 is 0.43508814398787854\n"
     ]
    }
   ],
   "source": [
    "m = len(df)\n",
    "sum = 0\n",
    "for i in range(m): \n",
    "    sum+= df[\"y\"][i]*np.log(df[\"prob\"][i]) + (1-df[\"y\"][i])*np.log(1-df[\"prob\"][i])\n",
    "loss_val = -sum/m\n",
    "print(f\"the value of loss function with current weights: w = {w} and b = {b} is {loss_val}\")"
   ]
  },
  {
   "cell_type": "markdown",
   "id": "04ddc202-8230-4695-a136-e71afafdbd31",
   "metadata": {},
   "source": [
    "**let's make a function from the code above:**"
   ]
  },
  {
   "cell_type": "code",
   "execution_count": 6,
   "id": "b7be458e-e102-4c6a-968c-eb6a99369124",
   "metadata": {},
   "outputs": [],
   "source": [
    "def loss_val(w, b, x, y):\n",
    "    z = w*x + b\n",
    "    probs = sigmoid(z)\n",
    "    m = len(probs)\n",
    "    sum = 0\n",
    "    for i in range(m):\n",
    "        sum += y[i]*np.log(probs[i]) + (1-y[i])*np.log(1-probs[i])\n",
    "    return -sum/m\n",
    "        "
   ]
  },
  {
   "cell_type": "code",
   "execution_count": 7,
   "id": "ff3543b5-d930-4ec7-803e-f9222f08ffef",
   "metadata": {},
   "outputs": [
    {
     "data": {
      "text/plain": [
       "0.43508814398787854"
      ]
     },
     "execution_count": 7,
     "metadata": {},
     "output_type": "execute_result"
    }
   ],
   "source": [
    "# let's test the function\n",
    "\n",
    "lv_21 = loss_val(w, b, df[\"X\"], df[\"y\"])\n",
    "lv_21"
   ]
  },
  {
   "cell_type": "markdown",
   "id": "615ad815-46f1-4df5-a743-5ce96eee402a",
   "metadata": {},
   "source": [
    "the output above says that the function works "
   ]
  },
  {
   "cell_type": "markdown",
   "id": "c5a9f948-e13e-45c6-9643-55badd5a17f0",
   "metadata": {},
   "source": [
    "#### now, let's test on various w and b manually:"
   ]
  },
  {
   "cell_type": "code",
   "execution_count": 8,
   "id": "27e2cfa8-ee47-4337-a93d-282d1ec4b891",
   "metadata": {},
   "outputs": [
    {
     "data": {
      "text/plain": [
       "0.5730380808445099"
      ]
     },
     "execution_count": 8,
     "metadata": {},
     "output_type": "execute_result"
    }
   ],
   "source": [
    "w = 1.5\n",
    "b = 0.2\n",
    "lv = loss_val(w, b, df[\"X\"], df[\"y\"])\n",
    "lv"
   ]
  },
  {
   "cell_type": "markdown",
   "id": "c9d258e8-50f4-4267-9cf1-6b7e4a6264c8",
   "metadata": {},
   "source": [
    "bad weights"
   ]
  },
  {
   "cell_type": "code",
   "execution_count": 9,
   "id": "839ca695-a6d7-441e-9f1e-45232cf425e4",
   "metadata": {},
   "outputs": [
    {
     "data": {
      "text/plain": [
       "0.9802465673291713"
      ]
     },
     "execution_count": 9,
     "metadata": {},
     "output_type": "execute_result"
    }
   ],
   "source": [
    "w = 2.5\n",
    "b = 1.5\n",
    "lv = loss_val(w, b, df[\"X\"], df[\"y\"])\n",
    "lv"
   ]
  },
  {
   "cell_type": "markdown",
   "id": "97386b1e-5262-4d41-bec7-c75385128e42",
   "metadata": {},
   "source": [
    "very bad weights"
   ]
  },
  {
   "cell_type": "code",
   "execution_count": 10,
   "id": "1f9a75fe-afff-4df9-8e23-d93ab9b642f5",
   "metadata": {},
   "outputs": [
    {
     "data": {
      "text/plain": [
       "0.46343167904032156"
      ]
     },
     "execution_count": 10,
     "metadata": {},
     "output_type": "execute_result"
    }
   ],
   "source": [
    "w = 1.8\n",
    "b = -1.8\n",
    "\n",
    "lv = loss_val(w, b, df[\"X\"], df[\"y\"])\n",
    "lv"
   ]
  },
  {
   "cell_type": "code",
   "execution_count": 11,
   "id": "509b1ef9-1a2b-4a32-82ff-f62c47228654",
   "metadata": {},
   "outputs": [
    {
     "data": {
      "text/plain": [
       "0.45499222739403566"
      ]
     },
     "execution_count": 11,
     "metadata": {},
     "output_type": "execute_result"
    }
   ],
   "source": [
    "w = 2.1\n",
    "b = -1.8\n",
    "\n",
    "lv = loss_val(w, b, df[\"X\"], df[\"y\"])\n",
    "lv"
   ]
  },
  {
   "cell_type": "markdown",
   "id": "4928409f-e7cf-4b4d-b341-37ab3762a0d1",
   "metadata": {},
   "source": [
    "## How to find these $w$ and $b$? "
   ]
  },
  {
   "cell_type": "markdown",
   "id": "69bbcc6e-0b56-4919-a6e7-8823d268a352",
   "metadata": {},
   "source": [
    "Now, the whole \"train the model\" means finding "
   ]
  },
  {
   "cell_type": "markdown",
   "id": "8ea24314-bd00-4b46-a48a-2125b1af6e7b",
   "metadata": {},
   "source": [
    "## Training the Gradient Descent on actual dataset"
   ]
  },
  {
   "cell_type": "markdown",
   "id": "34c53069-a2f7-46ad-9d7f-bfc715ca2b9d",
   "metadata": {},
   "source": [
    "### Preprocessing"
   ]
  },
  {
   "cell_type": "code",
   "execution_count": 12,
   "id": "5bad69ba-d206-4cb6-8a8b-54c6e010672e",
   "metadata": {},
   "outputs": [
    {
     "name": "stdout",
     "output_type": "stream",
     "text": [
      "   Temperature   Humidity  Wind_Speed  Cloud_Cover     Pressure     Rain\n",
      "0    23.720338  89.592641    7.335604    50.501694  1032.378759     rain\n",
      "1    27.879734  46.489704    5.952484     4.990053   992.614190  no rain\n",
      "2    25.069084  83.072843    1.371992    14.855784  1007.231620  no rain\n",
      "3    23.622080  74.367758    7.050551    67.255282   982.632013     rain\n",
      "4    20.591370  96.858822    4.643921    47.676444   980.825142  no rain\n",
      "(2500, 6)\n",
      "       Temperature     Humidity   Wind_Speed  Cloud_Cover     Pressure\n",
      "count  2500.000000  2500.000000  2500.000000  2500.000000  2500.000000\n",
      "mean     22.581725    64.347094     9.906255    49.658104  1014.312336\n",
      "std       7.326996    19.954739     5.780316    29.123104    20.196433\n",
      "min      10.001842    30.005071     0.009819     0.015038   980.014486\n",
      "25%      16.359398    47.339815     4.761909    23.900016   996.938630\n",
      "50%      22.536448    63.920797     9.908572    49.488284  1013.433035\n",
      "75%      28.976476    81.561021    14.948408    75.324140  1031.735067\n",
      "max      34.995214    99.997481    19.999132    99.997795  1049.985593\n",
      "Temperature    0\n",
      "Humidity       0\n",
      "Wind_Speed     0\n",
      "Cloud_Cover    0\n",
      "Pressure       0\n",
      "Rain           0\n",
      "dtype: int64\n"
     ]
    }
   ],
   "source": [
    "df = pd.read_csv(\"weather_forecast_data.csv\")\n",
    "print(df.head())\n",
    "print(df.shape)\n",
    "print(df.describe())\n",
    "print(df.isnull().sum())"
   ]
  },
  {
   "cell_type": "code",
   "execution_count": 13,
   "id": "16740ca4-4028-47c4-ab15-67d7df8408f1",
   "metadata": {},
   "outputs": [
    {
     "name": "stdout",
     "output_type": "stream",
     "text": [
      "0          rain\n",
      "1       no rain\n",
      "2       no rain\n",
      "3          rain\n",
      "4       no rain\n",
      "         ...   \n",
      "2495    no rain\n",
      "2496    no rain\n",
      "2497    no rain\n",
      "2498    no rain\n",
      "2499    no rain\n",
      "Name: Rain, Length: 2500, dtype: object\n",
      "\n",
      "object\n",
      "Temperature    float64\n",
      "Humidity       float64\n",
      "Wind_Speed     float64\n",
      "Cloud_Cover    float64\n",
      "Pressure       float64\n",
      "Rain            object\n",
      "dtype: object\n"
     ]
    }
   ],
   "source": [
    "print(df[\"Rain\"])\n",
    "print()\n",
    "print(df[\"Rain\"].dtype)\n",
    "print(df.dtypes)"
   ]
  },
  {
   "cell_type": "code",
   "execution_count": 14,
   "id": "a569a1bf-f0af-49d5-8682-52e1cda817af",
   "metadata": {},
   "outputs": [
    {
     "data": {
      "text/html": [
       "<div>\n",
       "<style scoped>\n",
       "    .dataframe tbody tr th:only-of-type {\n",
       "        vertical-align: middle;\n",
       "    }\n",
       "\n",
       "    .dataframe tbody tr th {\n",
       "        vertical-align: top;\n",
       "    }\n",
       "\n",
       "    .dataframe thead th {\n",
       "        text-align: right;\n",
       "    }\n",
       "</style>\n",
       "<table border=\"1\" class=\"dataframe\">\n",
       "  <thead>\n",
       "    <tr style=\"text-align: right;\">\n",
       "      <th></th>\n",
       "      <th>Temperature</th>\n",
       "      <th>Humidity</th>\n",
       "      <th>Wind_Speed</th>\n",
       "      <th>Cloud_Cover</th>\n",
       "      <th>Pressure</th>\n",
       "      <th>Rain</th>\n",
       "    </tr>\n",
       "  </thead>\n",
       "  <tbody>\n",
       "    <tr>\n",
       "      <th>0</th>\n",
       "      <td>23.720338</td>\n",
       "      <td>89.592641</td>\n",
       "      <td>7.335604</td>\n",
       "      <td>50.501694</td>\n",
       "      <td>1032.378759</td>\n",
       "      <td>1</td>\n",
       "    </tr>\n",
       "    <tr>\n",
       "      <th>1</th>\n",
       "      <td>27.879734</td>\n",
       "      <td>46.489704</td>\n",
       "      <td>5.952484</td>\n",
       "      <td>4.990053</td>\n",
       "      <td>992.614190</td>\n",
       "      <td>0</td>\n",
       "    </tr>\n",
       "    <tr>\n",
       "      <th>2</th>\n",
       "      <td>25.069084</td>\n",
       "      <td>83.072843</td>\n",
       "      <td>1.371992</td>\n",
       "      <td>14.855784</td>\n",
       "      <td>1007.231620</td>\n",
       "      <td>0</td>\n",
       "    </tr>\n",
       "    <tr>\n",
       "      <th>3</th>\n",
       "      <td>23.622080</td>\n",
       "      <td>74.367758</td>\n",
       "      <td>7.050551</td>\n",
       "      <td>67.255282</td>\n",
       "      <td>982.632013</td>\n",
       "      <td>1</td>\n",
       "    </tr>\n",
       "    <tr>\n",
       "      <th>4</th>\n",
       "      <td>20.591370</td>\n",
       "      <td>96.858822</td>\n",
       "      <td>4.643921</td>\n",
       "      <td>47.676444</td>\n",
       "      <td>980.825142</td>\n",
       "      <td>0</td>\n",
       "    </tr>\n",
       "  </tbody>\n",
       "</table>\n",
       "</div>"
      ],
      "text/plain": [
       "   Temperature   Humidity  Wind_Speed  Cloud_Cover     Pressure  Rain\n",
       "0    23.720338  89.592641    7.335604    50.501694  1032.378759     1\n",
       "1    27.879734  46.489704    5.952484     4.990053   992.614190     0\n",
       "2    25.069084  83.072843    1.371992    14.855784  1007.231620     0\n",
       "3    23.622080  74.367758    7.050551    67.255282   982.632013     1\n",
       "4    20.591370  96.858822    4.643921    47.676444   980.825142     0"
      ]
     },
     "execution_count": 14,
     "metadata": {},
     "output_type": "execute_result"
    }
   ],
   "source": [
    "# converting categorical values into binary int dtype\n",
    "df[\"Rain\"] = df[\"Rain\"].astype(\"string\").str.strip().str.lower().map({\"rain\":1, \"no rain\":0})\n",
    "df.head()"
   ]
  },
  {
   "cell_type": "code",
   "execution_count": 15,
   "id": "84a16eae-e02a-481e-adaa-13a10fc7e3b4",
   "metadata": {},
   "outputs": [
    {
     "data": {
      "text/plain": [
       "(2500, 5)"
      ]
     },
     "execution_count": 15,
     "metadata": {},
     "output_type": "execute_result"
    }
   ],
   "source": [
    "df[[\"Temperature\", \"Humidity\", \"Wind_Speed\", \"Cloud_Cover\", \"Pressure\"]].shape"
   ]
  },
  {
   "cell_type": "code",
   "execution_count": 22,
   "id": "c5165d10-fa24-47ee-9c89-8bfca0d2037e",
   "metadata": {},
   "outputs": [],
   "source": [
    "# independent variables\n",
    "x = df[[\"Temperature\", \"Humidity\", \"Wind_Speed\", \"Cloud_Cover\", \"Pressure\"]]"
   ]
  },
  {
   "cell_type": "code",
   "execution_count": 23,
   "id": "dacade76-d997-4771-84f2-8431dbfade1a",
   "metadata": {},
   "outputs": [],
   "source": [
    "# dependent variable\n",
    "y = df[[\"Rain\"]]"
   ]
  },
  {
   "cell_type": "code",
   "execution_count": 24,
   "id": "1506299c-dccf-47dd-9da4-ea0f6eab3e48",
   "metadata": {},
   "outputs": [],
   "source": [
    "# spliting the dataset to training and testing\n",
    "from sklearn.model_selection import train_test_split\n",
    "\n",
    "x_train, x_test, y_train, y_test = train_test_split(x, y, test_size=0.2, random_state=42)"
   ]
  },
  {
   "cell_type": "code",
   "execution_count": 26,
   "id": "afdba9fb-8b52-4eb7-9794-13e2551620d6",
   "metadata": {},
   "outputs": [
    {
     "name": "stdout",
     "output_type": "stream",
     "text": [
      "      Temperature   Humidity  Wind_Speed  Cloud_Cover     Pressure\n",
      "2055    10.001842  78.251648    4.980841    29.887058  1033.641741\n",
      "1961    34.105244  32.844383    7.206672    94.151499  1027.991494\n",
      "1864    15.240068  82.011602   10.695710    20.713915  1046.234092\n",
      "2326    17.161616  76.483176   13.680669    55.915756  1041.597091\n",
      "461     19.476422  93.112471    1.692415    52.228285  1028.830153\n",
      "(2000, 5)\n"
     ]
    }
   ],
   "source": [
    "print(x_train.head())\n",
    "print(x_train.shape)"
   ]
  },
  {
   "cell_type": "code",
   "execution_count": 27,
   "id": "4381010e-063d-483c-939f-5d69c3e40ffe",
   "metadata": {},
   "outputs": [
    {
     "name": "stdout",
     "output_type": "stream",
     "text": [
      "      Rain\n",
      "2055     0\n",
      "1961     0\n",
      "1864     0\n",
      "2326     1\n",
      "461      1\n",
      "...    ...\n",
      "1638     0\n",
      "1095     0\n",
      "1130     0\n",
      "1294     0\n",
      "860      0\n",
      "\n",
      "[2000 rows x 1 columns]\n",
      "(2000, 1)\n"
     ]
    }
   ],
   "source": [
    "print(y_train)\n",
    "print(y_train.shape)"
   ]
  },
  {
   "cell_type": "code",
   "execution_count": 33,
   "id": "9c801374-7ed0-452e-845a-4af6495db69a",
   "metadata": {},
   "outputs": [],
   "source": [
    "# reshaping \n",
    "x_train = x_train.T\n",
    "y_train = y_train.T\n"
   ]
  },
  {
   "cell_type": "code",
   "execution_count": 34,
   "id": "9a0d0bd1-4580-4bf2-b0f4-ce28af94fff3",
   "metadata": {},
   "outputs": [
    {
     "data": {
      "text/html": [
       "<div>\n",
       "<style scoped>\n",
       "    .dataframe tbody tr th:only-of-type {\n",
       "        vertical-align: middle;\n",
       "    }\n",
       "\n",
       "    .dataframe tbody tr th {\n",
       "        vertical-align: top;\n",
       "    }\n",
       "\n",
       "    .dataframe thead th {\n",
       "        text-align: right;\n",
       "    }\n",
       "</style>\n",
       "<table border=\"1\" class=\"dataframe\">\n",
       "  <thead>\n",
       "    <tr style=\"text-align: right;\">\n",
       "      <th></th>\n",
       "      <th>2055</th>\n",
       "      <th>1961</th>\n",
       "      <th>1864</th>\n",
       "      <th>2326</th>\n",
       "      <th>461</th>\n",
       "      <th>109</th>\n",
       "      <th>1962</th>\n",
       "      <th>354</th>\n",
       "      <th>266</th>\n",
       "      <th>1545</th>\n",
       "      <th>...</th>\n",
       "      <th>1482</th>\n",
       "      <th>330</th>\n",
       "      <th>1238</th>\n",
       "      <th>466</th>\n",
       "      <th>2169</th>\n",
       "      <th>1638</th>\n",
       "      <th>1095</th>\n",
       "      <th>1130</th>\n",
       "      <th>1294</th>\n",
       "      <th>860</th>\n",
       "    </tr>\n",
       "  </thead>\n",
       "  <tbody>\n",
       "    <tr>\n",
       "      <th>Temperature</th>\n",
       "      <td>10.001842</td>\n",
       "      <td>34.105244</td>\n",
       "      <td>15.240068</td>\n",
       "      <td>17.161616</td>\n",
       "      <td>19.476422</td>\n",
       "      <td>33.818725</td>\n",
       "      <td>29.522130</td>\n",
       "      <td>23.404437</td>\n",
       "      <td>17.043253</td>\n",
       "      <td>17.456145</td>\n",
       "      <td>...</td>\n",
       "      <td>10.951117</td>\n",
       "      <td>14.528774</td>\n",
       "      <td>12.144865</td>\n",
       "      <td>21.232291</td>\n",
       "      <td>26.544090</td>\n",
       "      <td>26.825253</td>\n",
       "      <td>28.974614</td>\n",
       "      <td>10.051616</td>\n",
       "      <td>10.619226</td>\n",
       "      <td>33.427926</td>\n",
       "    </tr>\n",
       "    <tr>\n",
       "      <th>Humidity</th>\n",
       "      <td>78.251648</td>\n",
       "      <td>32.844383</td>\n",
       "      <td>82.011602</td>\n",
       "      <td>76.483176</td>\n",
       "      <td>93.112471</td>\n",
       "      <td>62.276580</td>\n",
       "      <td>77.404213</td>\n",
       "      <td>57.201245</td>\n",
       "      <td>46.685954</td>\n",
       "      <td>91.211200</td>\n",
       "      <td>...</td>\n",
       "      <td>69.069660</td>\n",
       "      <td>54.944563</td>\n",
       "      <td>53.498144</td>\n",
       "      <td>33.905357</td>\n",
       "      <td>64.537896</td>\n",
       "      <td>91.686792</td>\n",
       "      <td>58.618211</td>\n",
       "      <td>30.573940</td>\n",
       "      <td>32.810852</td>\n",
       "      <td>91.082135</td>\n",
       "    </tr>\n",
       "    <tr>\n",
       "      <th>Wind_Speed</th>\n",
       "      <td>4.980841</td>\n",
       "      <td>7.206672</td>\n",
       "      <td>10.695710</td>\n",
       "      <td>13.680669</td>\n",
       "      <td>1.692415</td>\n",
       "      <td>18.923217</td>\n",
       "      <td>11.819313</td>\n",
       "      <td>9.120141</td>\n",
       "      <td>19.437548</td>\n",
       "      <td>11.231930</td>\n",
       "      <td>...</td>\n",
       "      <td>10.875507</td>\n",
       "      <td>17.435792</td>\n",
       "      <td>6.363011</td>\n",
       "      <td>18.815928</td>\n",
       "      <td>16.175928</td>\n",
       "      <td>8.058946</td>\n",
       "      <td>13.531515</td>\n",
       "      <td>9.517521</td>\n",
       "      <td>16.924988</td>\n",
       "      <td>2.555987</td>\n",
       "    </tr>\n",
       "    <tr>\n",
       "      <th>Cloud_Cover</th>\n",
       "      <td>29.887058</td>\n",
       "      <td>94.151499</td>\n",
       "      <td>20.713915</td>\n",
       "      <td>55.915756</td>\n",
       "      <td>52.228285</td>\n",
       "      <td>53.370971</td>\n",
       "      <td>83.902390</td>\n",
       "      <td>1.529719</td>\n",
       "      <td>45.462319</td>\n",
       "      <td>35.951571</td>\n",
       "      <td>...</td>\n",
       "      <td>82.690447</td>\n",
       "      <td>92.247170</td>\n",
       "      <td>79.290192</td>\n",
       "      <td>99.662904</td>\n",
       "      <td>56.936343</td>\n",
       "      <td>78.792732</td>\n",
       "      <td>67.976388</td>\n",
       "      <td>54.450577</td>\n",
       "      <td>79.125241</td>\n",
       "      <td>55.678875</td>\n",
       "    </tr>\n",
       "    <tr>\n",
       "      <th>Pressure</th>\n",
       "      <td>1033.641741</td>\n",
       "      <td>1027.991494</td>\n",
       "      <td>1046.234092</td>\n",
       "      <td>1041.597091</td>\n",
       "      <td>1028.830153</td>\n",
       "      <td>1000.595246</td>\n",
       "      <td>1044.208471</td>\n",
       "      <td>1024.694465</td>\n",
       "      <td>1043.060899</td>\n",
       "      <td>988.726038</td>\n",
       "      <td>...</td>\n",
       "      <td>986.732411</td>\n",
       "      <td>988.679816</td>\n",
       "      <td>1005.350250</td>\n",
       "      <td>1009.467306</td>\n",
       "      <td>991.332382</td>\n",
       "      <td>1039.223895</td>\n",
       "      <td>1025.789614</td>\n",
       "      <td>997.630125</td>\n",
       "      <td>1011.754684</td>\n",
       "      <td>1047.366547</td>\n",
       "    </tr>\n",
       "  </tbody>\n",
       "</table>\n",
       "<p>5 rows × 2000 columns</p>\n",
       "</div>"
      ],
      "text/plain": [
       "                    2055         1961         1864         2326         461   \\\n",
       "Temperature    10.001842    34.105244    15.240068    17.161616    19.476422   \n",
       "Humidity       78.251648    32.844383    82.011602    76.483176    93.112471   \n",
       "Wind_Speed      4.980841     7.206672    10.695710    13.680669     1.692415   \n",
       "Cloud_Cover    29.887058    94.151499    20.713915    55.915756    52.228285   \n",
       "Pressure     1033.641741  1027.991494  1046.234092  1041.597091  1028.830153   \n",
       "\n",
       "                    109          1962         354          266         1545  \\\n",
       "Temperature    33.818725    29.522130    23.404437    17.043253   17.456145   \n",
       "Humidity       62.276580    77.404213    57.201245    46.685954   91.211200   \n",
       "Wind_Speed     18.923217    11.819313     9.120141    19.437548   11.231930   \n",
       "Cloud_Cover    53.370971    83.902390     1.529719    45.462319   35.951571   \n",
       "Pressure     1000.595246  1044.208471  1024.694465  1043.060899  988.726038   \n",
       "\n",
       "             ...        1482        330          1238         466   \\\n",
       "Temperature  ...   10.951117   14.528774    12.144865    21.232291   \n",
       "Humidity     ...   69.069660   54.944563    53.498144    33.905357   \n",
       "Wind_Speed   ...   10.875507   17.435792     6.363011    18.815928   \n",
       "Cloud_Cover  ...   82.690447   92.247170    79.290192    99.662904   \n",
       "Pressure     ...  986.732411  988.679816  1005.350250  1009.467306   \n",
       "\n",
       "                   2169         1638         1095        1130         1294  \\\n",
       "Temperature   26.544090    26.825253    28.974614   10.051616    10.619226   \n",
       "Humidity      64.537896    91.686792    58.618211   30.573940    32.810852   \n",
       "Wind_Speed    16.175928     8.058946    13.531515    9.517521    16.924988   \n",
       "Cloud_Cover   56.936343    78.792732    67.976388   54.450577    79.125241   \n",
       "Pressure     991.332382  1039.223895  1025.789614  997.630125  1011.754684   \n",
       "\n",
       "                    860   \n",
       "Temperature    33.427926  \n",
       "Humidity       91.082135  \n",
       "Wind_Speed      2.555987  \n",
       "Cloud_Cover    55.678875  \n",
       "Pressure     1047.366547  \n",
       "\n",
       "[5 rows x 2000 columns]"
      ]
     },
     "execution_count": 34,
     "metadata": {},
     "output_type": "execute_result"
    }
   ],
   "source": [
    "x_train"
   ]
  },
  {
   "cell_type": "code",
   "execution_count": 35,
   "id": "a22f9465-6fed-4733-8f54-50bec69ebd6e",
   "metadata": {},
   "outputs": [
    {
     "data": {
      "text/html": [
       "<div>\n",
       "<style scoped>\n",
       "    .dataframe tbody tr th:only-of-type {\n",
       "        vertical-align: middle;\n",
       "    }\n",
       "\n",
       "    .dataframe tbody tr th {\n",
       "        vertical-align: top;\n",
       "    }\n",
       "\n",
       "    .dataframe thead th {\n",
       "        text-align: right;\n",
       "    }\n",
       "</style>\n",
       "<table border=\"1\" class=\"dataframe\">\n",
       "  <thead>\n",
       "    <tr style=\"text-align: right;\">\n",
       "      <th></th>\n",
       "      <th>2055</th>\n",
       "      <th>1961</th>\n",
       "      <th>1864</th>\n",
       "      <th>2326</th>\n",
       "      <th>461</th>\n",
       "      <th>109</th>\n",
       "      <th>1962</th>\n",
       "      <th>354</th>\n",
       "      <th>266</th>\n",
       "      <th>1545</th>\n",
       "      <th>...</th>\n",
       "      <th>1482</th>\n",
       "      <th>330</th>\n",
       "      <th>1238</th>\n",
       "      <th>466</th>\n",
       "      <th>2169</th>\n",
       "      <th>1638</th>\n",
       "      <th>1095</th>\n",
       "      <th>1130</th>\n",
       "      <th>1294</th>\n",
       "      <th>860</th>\n",
       "    </tr>\n",
       "  </thead>\n",
       "  <tbody>\n",
       "    <tr>\n",
       "      <th>Rain</th>\n",
       "      <td>0</td>\n",
       "      <td>0</td>\n",
       "      <td>0</td>\n",
       "      <td>1</td>\n",
       "      <td>1</td>\n",
       "      <td>0</td>\n",
       "      <td>0</td>\n",
       "      <td>0</td>\n",
       "      <td>0</td>\n",
       "      <td>0</td>\n",
       "      <td>...</td>\n",
       "      <td>0</td>\n",
       "      <td>0</td>\n",
       "      <td>0</td>\n",
       "      <td>0</td>\n",
       "      <td>0</td>\n",
       "      <td>0</td>\n",
       "      <td>0</td>\n",
       "      <td>0</td>\n",
       "      <td>0</td>\n",
       "      <td>0</td>\n",
       "    </tr>\n",
       "  </tbody>\n",
       "</table>\n",
       "<p>1 rows × 2000 columns</p>\n",
       "</div>"
      ],
      "text/plain": [
       "      2055  1961  1864  2326  461   109   1962  354   266   1545  ...  1482  \\\n",
       "Rain     0     0     0     1     1     0     0     0     0     0  ...     0   \n",
       "\n",
       "      330   1238  466   2169  1638  1095  1130  1294  860   \n",
       "Rain     0     0     0     0     0     0     0     0     0  \n",
       "\n",
       "[1 rows x 2000 columns]"
      ]
     },
     "execution_count": 35,
     "metadata": {},
     "output_type": "execute_result"
    }
   ],
   "source": [
    "y_train"
   ]
  },
  {
   "cell_type": "code",
   "execution_count": 36,
   "id": "8e490cd9-a9c1-45f8-9d24-5283af60a82a",
   "metadata": {},
   "outputs": [],
   "source": [
    "x_train = x_train.to_numpy()\n",
    "y_train = y_train.to_numpy()"
   ]
  },
  {
   "cell_type": "code",
   "execution_count": 41,
   "id": "a234bb77-dbd2-44e5-b295-e8e5dd8984da",
   "metadata": {},
   "outputs": [
    {
     "name": "stdout",
     "output_type": "stream",
     "text": [
      "(5, 2000)\n"
     ]
    },
    {
     "data": {
      "text/plain": [
       "array([[  10.00184249,   34.10524392,   15.24006822, ...,   10.05161589,\n",
       "          10.61922645,   33.42792605],\n",
       "       [  78.25164776,   32.8443828 ,   82.01160248, ...,   30.57393984,\n",
       "          32.81085154,   91.08213487],\n",
       "       [   4.98084118,    7.20667185,   10.6957097 , ...,    9.51752125,\n",
       "          16.9249876 ,    2.55598703],\n",
       "       [  29.88705781,   94.15149862,   20.713915  , ...,   54.45057688,\n",
       "          79.12524072,   55.67887461],\n",
       "       [1033.64174102, 1027.99149412, 1046.23409224, ...,  997.63012508,\n",
       "        1011.75468407, 1047.36654726]])"
      ]
     },
     "execution_count": 41,
     "metadata": {},
     "output_type": "execute_result"
    }
   ],
   "source": [
    "print(x_train.shape)\n",
    "x_train"
   ]
  },
  {
   "cell_type": "code",
   "execution_count": 38,
   "id": "c901b845-bff3-4f62-b242-45946cbbd2da",
   "metadata": {},
   "outputs": [
    {
     "data": {
      "text/plain": [
       "array([[0, 0, 0, ..., 0, 0, 0]], dtype=int64)"
      ]
     },
     "execution_count": 38,
     "metadata": {},
     "output_type": "execute_result"
    }
   ],
   "source": [
    "y_train"
   ]
  },
  {
   "cell_type": "markdown",
   "id": "e47c4e5f-29a8-4f6a-9256-6cacdf929c9c",
   "metadata": {},
   "source": [
    "### Gradient descent "
   ]
  },
  {
   "cell_type": "code",
   "execution_count": 39,
   "id": "13fef2b6-b11d-474a-81b0-7968c3f94480",
   "metadata": {},
   "outputs": [],
   "source": [
    "def sigmoid(x):\n",
    "    return 1/(1+np.exp(-x))"
   ]
  },
  {
   "cell_type": "code",
   "execution_count": 57,
   "id": "699ef645-9e1d-4969-88d8-e86230931c95",
   "metadata": {},
   "outputs": [
    {
     "name": "stdout",
     "output_type": "stream",
     "text": [
      "cost after  0 iterations is:  0.6931471805599454\n"
     ]
    },
    {
     "name": "stderr",
     "output_type": "stream",
     "text": [
      "C:\\Users\\Nazik\\AppData\\Local\\Temp\\ipykernel_17456\\4033946986.py:2: RuntimeWarning: overflow encountered in exp\n",
      "  return 1/(1+np.exp(-x))\n",
      "C:\\Users\\Nazik\\AppData\\Local\\Temp\\ipykernel_17456\\1224714622.py:14: RuntimeWarning: divide by zero encountered in log\n",
      "  cost = -(1/m)*np.sum(y_train*np.log(A) + (1-y_train)*np.log(1-A))\n",
      "C:\\Users\\Nazik\\AppData\\Local\\Temp\\ipykernel_17456\\1224714622.py:14: RuntimeWarning: invalid value encountered in multiply\n",
      "  cost = -(1/m)*np.sum(y_train*np.log(A) + (1-y_train)*np.log(1-A))\n"
     ]
    },
    {
     "name": "stdout",
     "output_type": "stream",
     "text": [
      "cost after  10000 iterations is:  nan\n",
      "cost after  20000 iterations is:  nan\n",
      "cost after  30000 iterations is:  nan\n",
      "cost after  40000 iterations is:  nan\n",
      "cost after  50000 iterations is:  nan\n",
      "cost after  60000 iterations is:  nan\n",
      "cost after  70000 iterations is:  nan\n",
      "cost after  80000 iterations is:  nan\n",
      "cost after  90000 iterations is:  nan\n",
      "the value of W:  [[-10.57471025]\n",
      " [  4.87704928]\n",
      " [ -0.07759793]\n",
      " [  3.15396258]\n",
      " [ -0.35714285]]\n",
      "the value of B:  -0.033333275959190944\n"
     ]
    }
   ],
   "source": [
    "m = x_train.shape[1] # number of datapoints\n",
    "n = x_train.shape[0] # number of features\n",
    "\n",
    "W = np.zeros((n, 1))\n",
    "B = 0\n",
    "iterations = 100000\n",
    "learning_rate = 0.0015\n",
    "cost_val_list = []\n",
    "for i in range(iterations):\n",
    "    Z = np.dot(W.T, x_train) + B\n",
    "    A = sigmoid(Z)\n",
    "\n",
    "    # cost function\n",
    "    cost = -(1/m)*np.sum(y_train*np.log(A) + (1-y_train)*np.log(1-A))\n",
    "\n",
    "    # derivatives\n",
    "    dW = (1/m)*np.dot(A-y_train, x_train.T)\n",
    "    dB = (1/m)*np.sum(A-y_train)\n",
    "\n",
    "    W = W - learning_rate*dW.T\n",
    "    B = B - learning_rate*dB\n",
    "\n",
    "    cost_val_list.append(cost)\n",
    "    if i%(iterations/10) == 0:\n",
    "        print(\"cost after \", i, \"iterations is: \", cost)\n",
    "print(\"the value of W: \", W)\n",
    "print(\"the value of B: \", B)\n"
   ]
  },
  {
   "cell_type": "code",
   "execution_count": 58,
   "id": "84395696-815a-4b1f-8c07-54a5651775f4",
   "metadata": {},
   "outputs": [
    {
     "name": "stdout",
     "output_type": "stream",
     "text": [
      "Cost after 0 iterations is: 0.6931471805599454\n",
      "Cost after 10000 iterations is: 2.463962457199882\n",
      "Cost after 20000 iterations is: 1.8873438052671991\n",
      "Cost after 30000 iterations is: 1.7819567786115917\n",
      "Cost after 40000 iterations is: 1.738221786168671\n",
      "Cost after 50000 iterations is: 1.697433481780161\n",
      "Cost after 60000 iterations is: 1.6350208507202182\n",
      "Cost after 70000 iterations is: 1.612856296441588\n",
      "Cost after 80000 iterations is: 1.603284785598492\n",
      "Cost after 90000 iterations is: 1.6318583428402893\n",
      "Final weights (W): [[-10.57515593]\n",
      " [  4.87704806]\n",
      " [ -0.07756806]\n",
      " [  3.15444029]\n",
      " [ -0.36214824]]\n",
      "Final bias (B): -0.03332351064052604\n"
     ]
    }
   ],
   "source": [
    "def sigmoid(z):\n",
    "    z = np.clip(z, -500, 500)\n",
    "    return 1 / (1 + np.exp(-z))\n",
    "\n",
    "m = x_train.shape[1]  # number of data points\n",
    "n = x_train.shape[0]  # number of features\n",
    "\n",
    "W = np.zeros((n, 1))\n",
    "B = 0\n",
    "iterations = 100000\n",
    "learning_rate = 0.0015\n",
    "cost_val_list = []\n",
    "\n",
    "for i in range(iterations):\n",
    "    Z = np.dot(W.T, x_train) + B\n",
    "    A = sigmoid(Z)\n",
    "    A = np.clip(A, 1e-8, 1 - 1e-8)  # avoid log(0)\n",
    "\n",
    "    cost = -(1/m)*np.sum(y_train*np.log(A) + (1 - y_train)*np.log(1 - A))\n",
    "\n",
    "    dW = (1/m)*np.dot(A - y_train, x_train.T)\n",
    "    dB = (1/m)*np.sum(A - y_train)\n",
    "\n",
    "    W = W - learning_rate*dW.T\n",
    "    B = B - learning_rate*dB\n",
    "\n",
    "    cost_val_list.append(cost)\n",
    "\n",
    "    if i % (iterations // 10) == 0:\n",
    "        print(\"Cost after\", i, \"iterations is:\", cost)\n",
    "\n",
    "print(\"Final weights (W):\", W)\n",
    "print(\"Final bias (B):\", B)\n"
   ]
  },
  {
   "cell_type": "code",
   "execution_count": 60,
   "id": "d8e80670-9df5-4524-93ff-4b9564401a6a",
   "metadata": {},
   "outputs": [],
   "source": [
    "# let's visualize \n",
    "import matplotlib.pyplot as plt"
   ]
  },
  {
   "cell_type": "code",
   "execution_count": 61,
   "id": "dcb7ea4a-76e8-4ac9-ae6b-0eb4e35856f3",
   "metadata": {},
   "outputs": [
    {
     "data": {
      "image/png": "[encoded data removed]",
      "text/plain": [
       "<Figure size 640x480 with 1 Axes>"
      ]
     },
     "metadata": {},
     "output_type": "display_data"
    }
   ],
   "source": [
    "plt.plot(np.arange(iterations), cost_val_list)\n",
    "plt.show()"
   ]
  },
  {
   "cell_type": "markdown",
   "id": "ff062491-052b-41e3-9fe3-fb32c1d3ebc3",
   "metadata": {},
   "source": [
    "### Testing accuracy"
   ]
  },
  {
   "cell_type": "code",
   "execution_count": 62,
   "id": "4734316b-1634-4730-9e85-a66e682ffdfb",
   "metadata": {},
   "outputs": [],
   "source": [
    "def accuracy(X, Y, W, B):\n",
    "    \n",
    "    Z = np.dot(W.T, X) + B\n",
    "    A = sigmoid(Z)\n",
    "    \n",
    "    A = A > 0.5\n",
    "    \n",
    "    A = np.array(A, dtype = 'int64')\n",
    "    \n",
    "    acc = (1 - np.sum(np.absolute(A - Y))/Y.shape[1])*100\n",
    "    \n",
    "    print(\"Accuracy of the model is : \", round(acc, 2), \"%\")"
   ]
  },
  {
   "cell_type": "code",
   "execution_count": 63,
   "id": "702a0c29-8270-48e8-81a4-09beee5cd69b",
   "metadata": {},
   "outputs": [],
   "source": [
    "x_test = x_test.T.to_numpy()\n",
    "y_test = y_test.T.to_numpy()\n"
   ]
  },
  {
   "cell_type": "code",
   "execution_count": 64,
   "id": "276a19e4-55c9-4b98-ae25-424ddb6fc967",
   "metadata": {},
   "outputs": [
    {
     "name": "stdout",
     "output_type": "stream",
     "text": [
      "Accuracy of the model is :  90.0 %\n"
     ]
    }
   ],
   "source": [
    "accuracy(x_test, y_test, W, B)"
   ]
  },
  {
   "cell_type": "markdown",
   "id": "f9de01ca-4a7f-4429-b533-eb148de38fd8",
   "metadata": {},
   "source": [
    "## Now let's compare with sklearn LogisticRegression()"
   ]
  },
  {
   "cell_type": "code",
   "execution_count": 78,
   "id": "3ffb2cc4-9eab-4272-a387-53b38f030e9c",
   "metadata": {},
   "outputs": [],
   "source": [
    "from sklearn.linear_model import LogisticRegression\n",
    "\n",
    "# Make sure y_train is 1D\n",
    "model = LogisticRegression()\n",
    "model.fit(x_train.T, y_train.ravel())  # x_train must be transposed if you had shape (features, samples)\n",
    "\n",
    "# Predict\n",
    "y_pred_sklearn = model.predict(x_test.T)\n"
   ]
  },
  {
   "cell_type": "code",
   "execution_count": 79,
   "id": "ffdd628a-fd48-40a9-bac4-8cf0f141b5dd",
   "metadata": {},
   "outputs": [],
   "source": [
    "from sklearn.metrics import accuracy_score\n",
    "acc_sklearn = accuracy_score(y_test.ravel(), y_pred_sklearn.ravel())"
   ]
  },
  {
   "cell_type": "code",
   "execution_count": 81,
   "id": "13666e1b-e6ae-4f85-af13-7c50f8f7ecb3",
   "metadata": {},
   "outputs": [
    {
     "name": "stdout",
     "output_type": "stream",
     "text": [
      "sklearn Logistic Regression Accuracy: 93.2 %\n"
     ]
    }
   ],
   "source": [
    "print(\"sklearn Logistic Regression Accuracy:\", acc_sklearn*100, \"%\")"
   ]
  },
  {
   "cell_type": "code",
   "execution_count": null,
   "id": "fc94db45-bd06-434f-8583-17bf99411bba",
   "metadata": {},
   "outputs": [],
   "source": []
  }
 ],
 "metadata": {
  "kernelspec": {
   "display_name": "Python 3 (ipykernel)",
   "language": "python",
   "name": "python3"
  },
  "language_info": {
   "codemirror_mode": {
    "name": "ipython",
    "version": 3
   },
   "file_extension": ".py",
   "mimetype": "text/x-python",
   "name": "python",
   "nbconvert_exporter": "python",
   "pygments_lexer": "ipython3",
   "version": "3.12.7"
  }
 },
 "nbformat": 4,
 "nbformat_minor": 5
}
